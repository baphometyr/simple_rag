{
 "cells": [
  {
   "cell_type": "code",
   "execution_count": 1,
   "id": "608922c6",
   "metadata": {},
   "outputs": [],
   "source": [
    "from movie_rag.index import IndexBuilder, Embedding"
   ]
  },
  {
   "cell_type": "code",
   "execution_count": 3,
   "id": "33ca09b3",
   "metadata": {},
   "outputs": [
    {
     "name": "stdout",
     "output_type": "stream",
     "text": [
      "Texto: Marte es el cuarto planeta (Distancia: 0.3616)\n",
      "Texto: El sol es una estrella (Distancia: 0.7462)\n",
      "Texto: La Tierra gira alrededor del sol (Distancia: 1.0098)\n"
     ]
    }
   ],
   "source": [
    "embedding = Embedding()\n",
    "index_builder = IndexBuilder(embedding)\n",
    "\n",
    "# Crear una colección nueva\n",
    "docs = [\n",
    "    \"El sol es una estrella\",\n",
    "    \"La Tierra gira alrededor del sol\",\n",
    "    \"Marte es el cuarto planeta\",\n",
    "]\n",
    "index_builder.build_collection(\"astronomia\", docs)\n",
    "\n",
    "# Luego cargarla en otra sesión\n",
    "# index_builder.load_collection(\"astronomia\")\n",
    "results = index_builder.query(\"¿Qué planeta es Marte?\", top_k=5)\n",
    "for text, dist in results:\n",
    "    print(f\"Texto: {text} (Distancia: {dist:.4f})\")\n"
   ]
  },
  {
   "cell_type": "code",
   "execution_count": null,
   "id": "e55176c8",
   "metadata": {},
   "outputs": [],
   "source": []
  }
 ],
 "metadata": {
  "kernelspec": {
   "display_name": "env",
   "language": "python",
   "name": "python3"
  },
  "language_info": {
   "codemirror_mode": {
    "name": "ipython",
    "version": 3
   },
   "file_extension": ".py",
   "mimetype": "text/x-python",
   "name": "python",
   "nbconvert_exporter": "python",
   "pygments_lexer": "ipython3",
   "version": "3.12.4"
  }
 },
 "nbformat": 4,
 "nbformat_minor": 5
}
