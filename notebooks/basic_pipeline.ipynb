{
 "cells": [
  {
   "cell_type": "markdown",
   "id": "879ca4f6",
   "metadata": {},
   "source": [
    "# Basic RAG Pipeline Example\n",
    "\n",
    "This notebook demonstrates a simple Retrieval-Augmented Generation (RAG) pipeline using simple_rag"
   ]
  },
  {
   "cell_type": "code",
   "execution_count": 5,
   "id": "a82628ea",
   "metadata": {},
   "outputs": [
    {
     "data": {
      "text/plain": [
       "True"
      ]
     },
     "execution_count": 5,
     "metadata": {},
     "output_type": "execute_result"
    }
   ],
   "source": [
    "from simple_rag.index import IndexBuilder, Embedding\n",
    "from simple_rag.llm import AzureOpenAIProvider\n",
    "from simple_rag.pipeline import Pipeline\n",
    "\n",
    "import os\n",
    "from dotenv import load_dotenv\n",
    "load_dotenv()"
   ]
  },
  {
   "cell_type": "code",
   "execution_count": 7,
   "id": "78b38a32",
   "metadata": {},
   "outputs": [],
   "source": [
    "# Example set of documents for the RAG pipeline\n",
    "documents = [\n",
    "    \"RAG stands for Retrieval-Augmented Generation.\",\n",
    "    \"FAISS is a library for efficient similarity search.\",\n",
    "    \"Language models can be local or accessed via API like OpenAI.\",\n",
    "    \"Python is a popular programming language for RAG applications.\"\n",
    "]\n",
    "\n",
    "# Generate embedding model for collection\n",
    "embedding = Embedding(model_name=\"all-MiniLM-L6-V2\") # or another embedding model\n",
    "\n",
    "# Build collection with example documents \n",
    "index = IndexBuilder(embedding=embedding)\n",
    "index.build_collection(\"my_collection\", documents, save=False)"
   ]
  },
  {
   "cell_type": "code",
   "execution_count": 6,
   "id": "e64ed90d",
   "metadata": {},
   "outputs": [],
   "source": [
    "# Build llm provider \n",
    "llm = AzureOpenAIProvider(\n",
    "    api_key=os.getenv(\"AZURE_OPENAI_API_KEY\"),\n",
    "    azure_endpoint=os.getenv(\"AZURE_OPENAI_API_ENDPOINT\"),\n",
    "    api_version=os.getenv(\"AZURE_OPENAI_API_VERSION\"),\n",
    "    deployment_name=os.getenv(\"AZURE_OPENAI_DEPLOYMENT_NAME\")\n",
    ")"
   ]
  },
  {
   "cell_type": "code",
   "execution_count": 9,
   "id": "f9c3d7b2",
   "metadata": {},
   "outputs": [
    {
     "data": {
      "text/plain": [
       "'FAISS is a library for efficient similarity search.'"
      ]
     },
     "execution_count": 9,
     "metadata": {},
     "output_type": "execute_result"
    }
   ],
   "source": [
    "# Build a pipeline and run it\n",
    "pipeline = Pipeline(index=index, llm=llm)\n",
    "pipeline.run(\"What is FAISS\")"
   ]
  }
 ],
 "metadata": {
  "kernelspec": {
   "display_name": ".venv",
   "language": "python",
   "name": "python3"
  },
  "language_info": {
   "codemirror_mode": {
    "name": "ipython",
    "version": 3
   },
   "file_extension": ".py",
   "mimetype": "text/x-python",
   "name": "python",
   "nbconvert_exporter": "python",
   "pygments_lexer": "ipython3",
   "version": "3.12.4"
  }
 },
 "nbformat": 4,
 "nbformat_minor": 5
}
